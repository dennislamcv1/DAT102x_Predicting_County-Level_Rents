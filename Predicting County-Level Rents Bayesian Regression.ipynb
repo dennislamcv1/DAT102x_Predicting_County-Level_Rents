{
 "cells": [
  {
   "cell_type": "markdown",
   "metadata": {},
   "source": [
    "### Import Libraries"
   ]
  },
  {
   "cell_type": "code",
   "execution_count": 1,
   "metadata": {},
   "outputs": [],
   "source": [
    "import numpy as np\n",
    "import matplotlib.pyplot as plt\n",
    "import pandas as pd\n",
    "import seaborn as sns\n",
    "%matplotlib inline\n",
    "\n",
    "from pprint import pprint\n",
    "\n",
    "from sklearn.linear_model import BayesianRidge\n",
    "\n",
    "from sklearn.model_selection import train_test_split, KFold, LeaveOneOut\n",
    "from sklearn.model_selection import cross_validate, cross_val_score, cross_val_predict,GridSearchCV,RandomizedSearchCV\n",
    "\n",
    "from sklearn.metrics import mean_absolute_error, r2_score, explained_variance_score\n",
    "\n",
    "\n",
    "pd.set_option('display.max_rows',2000)\n",
    "pd.set_option('display.max_columns',50)\n",
    "pd.set_option('display.width',1000)\n",
    "\n",
    "import warnings\n",
    "warnings.filterwarnings(\"ignore\")\n",
    "\n",
    "import random\n",
    "random.seed(5)"
   ]
  },
  {
   "cell_type": "code",
   "execution_count": 2,
   "metadata": {},
   "outputs": [],
   "source": [
    "trainset = pd.read_csv('traincleaned.csv')\n",
    "testset = pd.read_csv('testcleaned.csv')"
   ]
  },
  {
   "cell_type": "code",
   "execution_count": 3,
   "metadata": {},
   "outputs": [
    {
     "data": {
      "text/plain": [
       "(1562, 9)"
      ]
     },
     "execution_count": 3,
     "metadata": {},
     "output_type": "execute_result"
    }
   ],
   "source": [
    "trainset.shape"
   ]
  },
  {
   "cell_type": "code",
   "execution_count": 4,
   "metadata": {},
   "outputs": [
    {
     "data": {
      "text/html": [
       "<div>\n",
       "<style scoped>\n",
       "    .dataframe tbody tr th:only-of-type {\n",
       "        vertical-align: middle;\n",
       "    }\n",
       "\n",
       "    .dataframe tbody tr th {\n",
       "        vertical-align: top;\n",
       "    }\n",
       "\n",
       "    .dataframe thead th {\n",
       "        text-align: right;\n",
       "    }\n",
       "</style>\n",
       "<table border=\"1\" class=\"dataframe\">\n",
       "  <thead>\n",
       "    <tr style=\"text-align: right;\">\n",
       "      <th></th>\n",
       "      <th>population</th>\n",
       "      <th>poverty_rate</th>\n",
       "      <th>pct_asian</th>\n",
       "      <th>pct_adults_bachelors_or_higher</th>\n",
       "      <th>death_rate_per_1k</th>\n",
       "      <th>pct_adult_obesity</th>\n",
       "      <th>pct_adults_with_high_school_diploma</th>\n",
       "      <th>pct_physical_inactivity</th>\n",
       "      <th>gross_rent</th>\n",
       "    </tr>\n",
       "  </thead>\n",
       "  <tbody>\n",
       "    <tr>\n",
       "      <th>0</th>\n",
       "      <td>0.023278</td>\n",
       "      <td>0.163225</td>\n",
       "      <td>0.215669</td>\n",
       "      <td>0.415881</td>\n",
       "      <td>0.453269</td>\n",
       "      <td>0.515625</td>\n",
       "      <td>0.452178</td>\n",
       "      <td>0.733696</td>\n",
       "      <td>577.0</td>\n",
       "    </tr>\n",
       "    <tr>\n",
       "      <th>1</th>\n",
       "      <td>0.064244</td>\n",
       "      <td>0.301803</td>\n",
       "      <td>0.057134</td>\n",
       "      <td>1.000000</td>\n",
       "      <td>0.000000</td>\n",
       "      <td>0.218750</td>\n",
       "      <td>0.120183</td>\n",
       "      <td>0.030797</td>\n",
       "      <td>844.0</td>\n",
       "    </tr>\n",
       "    <tr>\n",
       "      <th>2</th>\n",
       "      <td>0.172656</td>\n",
       "      <td>0.382985</td>\n",
       "      <td>0.180185</td>\n",
       "      <td>0.477163</td>\n",
       "      <td>0.530341</td>\n",
       "      <td>0.442708</td>\n",
       "      <td>0.608543</td>\n",
       "      <td>0.429348</td>\n",
       "      <td>700.0</td>\n",
       "    </tr>\n",
       "    <tr>\n",
       "      <th>3</th>\n",
       "      <td>0.054635</td>\n",
       "      <td>0.537368</td>\n",
       "      <td>0.164462</td>\n",
       "      <td>0.464484</td>\n",
       "      <td>0.530151</td>\n",
       "      <td>0.229167</td>\n",
       "      <td>0.401060</td>\n",
       "      <td>0.487319</td>\n",
       "      <td>592.0</td>\n",
       "    </tr>\n",
       "    <tr>\n",
       "      <th>4</th>\n",
       "      <td>0.022019</td>\n",
       "      <td>0.321482</td>\n",
       "      <td>0.521310</td>\n",
       "      <td>0.414058</td>\n",
       "      <td>0.795009</td>\n",
       "      <td>0.588542</td>\n",
       "      <td>0.542461</td>\n",
       "      <td>0.726449</td>\n",
       "      <td>444.0</td>\n",
       "    </tr>\n",
       "  </tbody>\n",
       "</table>\n",
       "</div>"
      ],
      "text/plain": [
       "   population  poverty_rate  pct_asian  pct_adults_bachelors_or_higher  death_rate_per_1k  pct_adult_obesity  pct_adults_with_high_school_diploma  pct_physical_inactivity  gross_rent\n",
       "0    0.023278      0.163225   0.215669                        0.415881           0.453269           0.515625                             0.452178                 0.733696       577.0\n",
       "1    0.064244      0.301803   0.057134                        1.000000           0.000000           0.218750                             0.120183                 0.030797       844.0\n",
       "2    0.172656      0.382985   0.180185                        0.477163           0.530341           0.442708                             0.608543                 0.429348       700.0\n",
       "3    0.054635      0.537368   0.164462                        0.464484           0.530151           0.229167                             0.401060                 0.487319       592.0\n",
       "4    0.022019      0.321482   0.521310                        0.414058           0.795009           0.588542                             0.542461                 0.726449       444.0"
      ]
     },
     "execution_count": 4,
     "metadata": {},
     "output_type": "execute_result"
    }
   ],
   "source": [
    "trainset.head()"
   ]
  },
  {
   "cell_type": "code",
   "execution_count": 5,
   "metadata": {},
   "outputs": [
    {
     "data": {
      "text/html": [
       "<div>\n",
       "<style scoped>\n",
       "    .dataframe tbody tr th:only-of-type {\n",
       "        vertical-align: middle;\n",
       "    }\n",
       "\n",
       "    .dataframe tbody tr th {\n",
       "        vertical-align: top;\n",
       "    }\n",
       "\n",
       "    .dataframe thead th {\n",
       "        text-align: right;\n",
       "    }\n",
       "</style>\n",
       "<table border=\"1\" class=\"dataframe\">\n",
       "  <thead>\n",
       "    <tr style=\"text-align: right;\">\n",
       "      <th></th>\n",
       "      <th>population</th>\n",
       "      <th>poverty_rate</th>\n",
       "      <th>pct_asian</th>\n",
       "      <th>pct_adults_bachelors_or_higher</th>\n",
       "      <th>death_rate_per_1k</th>\n",
       "      <th>pct_adult_obesity</th>\n",
       "      <th>pct_adults_with_high_school_diploma</th>\n",
       "      <th>pct_physical_inactivity</th>\n",
       "      <th>gross_rent</th>\n",
       "    </tr>\n",
       "  </thead>\n",
       "  <tbody>\n",
       "    <tr>\n",
       "      <th>count</th>\n",
       "      <td>1562.000000</td>\n",
       "      <td>1562.000000</td>\n",
       "      <td>1562.000000</td>\n",
       "      <td>1562.000000</td>\n",
       "      <td>1562.000000</td>\n",
       "      <td>1562.000000</td>\n",
       "      <td>1562.000000</td>\n",
       "      <td>1562.000000</td>\n",
       "      <td>1562.000000</td>\n",
       "    </tr>\n",
       "    <tr>\n",
       "      <th>mean</th>\n",
       "      <td>0.315221</td>\n",
       "      <td>0.470485</td>\n",
       "      <td>0.325477</td>\n",
       "      <td>0.420082</td>\n",
       "      <td>0.498212</td>\n",
       "      <td>0.489837</td>\n",
       "      <td>0.501116</td>\n",
       "      <td>0.498382</td>\n",
       "      <td>690.869398</td>\n",
       "    </tr>\n",
       "    <tr>\n",
       "      <th>std</th>\n",
       "      <td>0.337841</td>\n",
       "      <td>0.206988</td>\n",
       "      <td>0.322053</td>\n",
       "      <td>0.244388</td>\n",
       "      <td>0.187483</td>\n",
       "      <td>0.213047</td>\n",
       "      <td>0.185760</td>\n",
       "      <td>0.190813</td>\n",
       "      <td>161.102958</td>\n",
       "    </tr>\n",
       "    <tr>\n",
       "      <th>min</th>\n",
       "      <td>0.000000</td>\n",
       "      <td>0.000000</td>\n",
       "      <td>0.000000</td>\n",
       "      <td>0.000000</td>\n",
       "      <td>0.000000</td>\n",
       "      <td>0.000000</td>\n",
       "      <td>0.000000</td>\n",
       "      <td>0.000000</td>\n",
       "      <td>351.000000</td>\n",
       "    </tr>\n",
       "    <tr>\n",
       "      <th>25%</th>\n",
       "      <td>0.065720</td>\n",
       "      <td>0.312640</td>\n",
       "      <td>0.091503</td>\n",
       "      <td>0.239495</td>\n",
       "      <td>0.375000</td>\n",
       "      <td>0.375000</td>\n",
       "      <td>0.379902</td>\n",
       "      <td>0.375000</td>\n",
       "      <td>578.000000</td>\n",
       "    </tr>\n",
       "    <tr>\n",
       "      <th>50%</th>\n",
       "      <td>0.161420</td>\n",
       "      <td>0.437152</td>\n",
       "      <td>0.202047</td>\n",
       "      <td>0.362974</td>\n",
       "      <td>0.497575</td>\n",
       "      <td>0.494792</td>\n",
       "      <td>0.516032</td>\n",
       "      <td>0.512681</td>\n",
       "      <td>650.000000</td>\n",
       "    </tr>\n",
       "    <tr>\n",
       "      <th>75%</th>\n",
       "      <td>0.439432</td>\n",
       "      <td>0.587584</td>\n",
       "      <td>0.454902</td>\n",
       "      <td>0.543697</td>\n",
       "      <td>0.625000</td>\n",
       "      <td>0.625000</td>\n",
       "      <td>0.633171</td>\n",
       "      <td>0.625000</td>\n",
       "      <td>773.750000</td>\n",
       "    </tr>\n",
       "    <tr>\n",
       "      <th>max</th>\n",
       "      <td>1.000000</td>\n",
       "      <td>1.000000</td>\n",
       "      <td>1.000000</td>\n",
       "      <td>1.000000</td>\n",
       "      <td>1.000000</td>\n",
       "      <td>1.000000</td>\n",
       "      <td>1.000000</td>\n",
       "      <td>1.000000</td>\n",
       "      <td>1067.375000</td>\n",
       "    </tr>\n",
       "  </tbody>\n",
       "</table>\n",
       "</div>"
      ],
      "text/plain": [
       "        population  poverty_rate    pct_asian  pct_adults_bachelors_or_higher  death_rate_per_1k  pct_adult_obesity  pct_adults_with_high_school_diploma  pct_physical_inactivity   gross_rent\n",
       "count  1562.000000   1562.000000  1562.000000                     1562.000000        1562.000000        1562.000000                          1562.000000              1562.000000  1562.000000\n",
       "mean      0.315221      0.470485     0.325477                        0.420082           0.498212           0.489837                             0.501116                 0.498382   690.869398\n",
       "std       0.337841      0.206988     0.322053                        0.244388           0.187483           0.213047                             0.185760                 0.190813   161.102958\n",
       "min       0.000000      0.000000     0.000000                        0.000000           0.000000           0.000000                             0.000000                 0.000000   351.000000\n",
       "25%       0.065720      0.312640     0.091503                        0.239495           0.375000           0.375000                             0.379902                 0.375000   578.000000\n",
       "50%       0.161420      0.437152     0.202047                        0.362974           0.497575           0.494792                             0.516032                 0.512681   650.000000\n",
       "75%       0.439432      0.587584     0.454902                        0.543697           0.625000           0.625000                             0.633171                 0.625000   773.750000\n",
       "max       1.000000      1.000000     1.000000                        1.000000           1.000000           1.000000                             1.000000                 1.000000  1067.375000"
      ]
     },
     "execution_count": 5,
     "metadata": {},
     "output_type": "execute_result"
    }
   ],
   "source": [
    "trainset.describe()"
   ]
  },
  {
   "cell_type": "code",
   "execution_count": 6,
   "metadata": {},
   "outputs": [
    {
     "name": "stdout",
     "output_type": "stream",
     "text": [
      "<class 'pandas.core.frame.DataFrame'>\n",
      "RangeIndex: 1562 entries, 0 to 1561\n",
      "Data columns (total 9 columns):\n",
      "population                             1562 non-null float64\n",
      "poverty_rate                           1562 non-null float64\n",
      "pct_asian                              1562 non-null float64\n",
      "pct_adults_bachelors_or_higher         1562 non-null float64\n",
      "death_rate_per_1k                      1562 non-null float64\n",
      "pct_adult_obesity                      1562 non-null float64\n",
      "pct_adults_with_high_school_diploma    1562 non-null float64\n",
      "pct_physical_inactivity                1562 non-null float64\n",
      "gross_rent                             1562 non-null float64\n",
      "dtypes: float64(9)\n",
      "memory usage: 110.0 KB\n"
     ]
    }
   ],
   "source": [
    "trainset.info()"
   ]
  },
  {
   "cell_type": "code",
   "execution_count": 7,
   "metadata": {},
   "outputs": [],
   "source": [
    "X = trainset.iloc[:,0:8].values\n",
    "y = trainset.iloc[:,8].values"
   ]
  },
  {
   "cell_type": "code",
   "execution_count": 8,
   "metadata": {},
   "outputs": [
    {
     "data": {
      "text/plain": [
       "((1562, 8), (1562,))"
      ]
     },
     "execution_count": 8,
     "metadata": {},
     "output_type": "execute_result"
    }
   ],
   "source": [
    "X.shape, y.shape"
   ]
  },
  {
   "cell_type": "code",
   "execution_count": 9,
   "metadata": {},
   "outputs": [
    {
     "data": {
      "text/plain": [
       "(1576, 8)"
      ]
     },
     "execution_count": 9,
     "metadata": {},
     "output_type": "execute_result"
    }
   ],
   "source": [
    "testset.shape"
   ]
  },
  {
   "cell_type": "code",
   "execution_count": 10,
   "metadata": {},
   "outputs": [],
   "source": [
    "testset = testset.values"
   ]
  },
  {
   "cell_type": "code",
   "execution_count": 11,
   "metadata": {},
   "outputs": [
    {
     "data": {
      "text/plain": [
       "array([[0.12841254, 0.05338035, 0.39032981, ..., 0.73768167, 0.19027042,\n",
       "        0.52611141],\n",
       "       [0.53829054, 0.5042044 , 0.8243051 , ..., 0.03530985, 0.92579809,\n",
       "        0.32376536],\n",
       "       [0.20147311, 0.21404344, 0.72501092, ..., 0.46018719, 0.27980005,\n",
       "        0.47108826],\n",
       "       ...,\n",
       "       [0.06632096, 0.21715796, 0.10569026, ..., 0.        , 1.        ,\n",
       "        0.        ],\n",
       "       [0.06772453, 0.32619313, 0.44442879, ..., 0.54559827, 0.5963895 ,\n",
       "        0.42888532],\n",
       "       [0.00294918, 0.09121167, 0.11712994, ..., 0.49434356, 0.49655802,\n",
       "        0.17502657]])"
      ]
     },
     "execution_count": 11,
     "metadata": {},
     "output_type": "execute_result"
    }
   ],
   "source": [
    "testset"
   ]
  },
  {
   "cell_type": "code",
   "execution_count": 12,
   "metadata": {},
   "outputs": [
    {
     "data": {
      "text/plain": [
       "(1576, 8)"
      ]
     },
     "execution_count": 12,
     "metadata": {},
     "output_type": "execute_result"
    }
   ],
   "source": [
    "testset.shape"
   ]
  },
  {
   "cell_type": "markdown",
   "metadata": {},
   "source": [
    "### Perform TTS"
   ]
  },
  {
   "cell_type": "code",
   "execution_count": 13,
   "metadata": {},
   "outputs": [],
   "source": [
    "X_train, X_test, y_train, y_test = train_test_split(X, y, test_size=0.2, random_state=5)"
   ]
  },
  {
   "cell_type": "code",
   "execution_count": 14,
   "metadata": {},
   "outputs": [
    {
     "data": {
      "text/plain": [
       "((1249, 8), (1249,))"
      ]
     },
     "execution_count": 14,
     "metadata": {},
     "output_type": "execute_result"
    }
   ],
   "source": [
    "X_train.shape, y_train.shape"
   ]
  },
  {
   "cell_type": "code",
   "execution_count": 15,
   "metadata": {},
   "outputs": [
    {
     "data": {
      "text/plain": [
       "((313, 8), (313,))"
      ]
     },
     "execution_count": 15,
     "metadata": {},
     "output_type": "execute_result"
    }
   ],
   "source": [
    "X_test.shape, y_test.shape"
   ]
  },
  {
   "cell_type": "markdown",
   "metadata": {},
   "source": [
    "### Random Forest Test Model"
   ]
  },
  {
   "cell_type": "code",
   "execution_count": 16,
   "metadata": {},
   "outputs": [],
   "source": [
    "bayes = BayesianRidge(verbose=1)"
   ]
  },
  {
   "cell_type": "code",
   "execution_count": 17,
   "metadata": {},
   "outputs": [
    {
     "name": "stdout",
     "output_type": "stream",
     "text": [
      "Convergence after  5  iterations\n"
     ]
    }
   ],
   "source": [
    "bayesFit = bayes.fit(X_train,y_train)"
   ]
  },
  {
   "cell_type": "code",
   "execution_count": 18,
   "metadata": {},
   "outputs": [],
   "source": [
    "y_predict = bayesFit.predict(X_test)"
   ]
  },
  {
   "cell_type": "code",
   "execution_count": 19,
   "metadata": {},
   "outputs": [
    {
     "data": {
      "text/plain": [
       "array([523.09571863, 693.59507007, 693.15734813, 784.33200154,\n",
       "       694.19895719])"
      ]
     },
     "execution_count": 19,
     "metadata": {},
     "output_type": "execute_result"
    }
   ],
   "source": [
    "y_predict[0:5]"
   ]
  },
  {
   "cell_type": "code",
   "execution_count": 20,
   "metadata": {},
   "outputs": [
    {
     "data": {
      "text/plain": [
       "Text(0, 0.5, 'Predictions')"
      ]
     },
     "execution_count": 20,
     "metadata": {},
     "output_type": "execute_result"
    },
    {
     "data": {
      "image/png": "[encoded data removed]",
      "text/plain": [
       "<Figure size 720x720 with 1 Axes>"
      ]
     },
     "metadata": {
      "needs_background": "light"
     },
     "output_type": "display_data"
    }
   ],
   "source": [
    "plt.figure(figsize=(10,10))\n",
    "plt.scatter(y_test,y_predict)\n",
    "plt.grid()\n",
    "plt.xlabel('True Values')\n",
    "plt.ylabel('Predictions')"
   ]
  },
  {
   "cell_type": "markdown",
   "metadata": {},
   "source": [
    "### Model Evaluation"
   ]
  },
  {
   "cell_type": "code",
   "execution_count": 21,
   "metadata": {},
   "outputs": [
    {
     "data": {
      "text/plain": [
       "0.6274247328120055"
      ]
     },
     "execution_count": 21,
     "metadata": {},
     "output_type": "execute_result"
    }
   ],
   "source": [
    "bayesFit.score(X_test,y_test)  #Returns R2 score"
   ]
  },
  {
   "cell_type": "code",
   "execution_count": 22,
   "metadata": {},
   "outputs": [
    {
     "data": {
      "text/plain": [
       "0.6274247328120055"
      ]
     },
     "execution_count": 22,
     "metadata": {},
     "output_type": "execute_result"
    }
   ],
   "source": [
    "r2_score(y_test,y_predict,multioutput='variance_weighted')"
   ]
  },
  {
   "cell_type": "markdown",
   "metadata": {},
   "source": [
    "### Perform Cross-Validation"
   ]
  },
  {
   "cell_type": "markdown",
   "metadata": {},
   "source": [
    "Cross-validation is another method to estimate the skill of a method on unseen data. Like using a train-test split.\n",
    "\n",
    "Cross-validation systematically creates and evaluates multiple models on multiple subsets of the dataset.\n",
    "\n",
    "This, in turn, provides a population of performance measures.\n",
    "\n",
    "- We can calculate the mean of these measures to get an idea of how well the procedure performs on average.\n",
    "- We can calculate the standard deviation of these measures to get an idea of how much the skill of the procedure is expected to vary in practice.\n",
    "\n",
    "The train-test split and k-fold cross validation are called resampling methods. Resampling methods are statistical procedures for sampling a dataset and estimating an unknown quantity.\n",
    "\n",
    "In the case of applied machine learning, we are interested in estimating the skill of a machine learning procedure on unseen data. More specifically, the skill of the predictions made by a machine learning procedure.\n",
    "\n",
    "Once we have the estimated skill, we are finished with the resampling method.\n",
    "\n",
    "- If you are using a train-test split, that means you can discard the split datasets and the trained model.\n",
    "- If you are using k-fold cross-validation, that means you can throw away all of the trained models.\n",
    "\n",
    "They have served their purpose and are no longer needed.\n",
    "\n",
    "You are now ready to finalize your model.\n",
    "\n",
    "When choosing a value for k each fold(group) should be large enough to be **representative** of the model (commonly k=10 or k=5) and small enough to be computed in a reasonable amount of time. Depending on the dataset size, different k values can sometimes be experimented with. As a general rule, as k increases, bias decreases and variance increases.\n",
    "\n",
    "But the purpose of cross-validation is not to come up with our final model. We don't use these 5 instances of our trained model to do any real prediction. For that we want to use all the data we have to come up with the best model possible. The purpose of cross-validation is model checking, not model building."
   ]
  },
  {
   "cell_type": "code",
   "execution_count": 23,
   "metadata": {},
   "outputs": [],
   "source": [
    "r2score = cross_val_score(bayesFit,X,y,cv=5,n_jobs=-1,scoring='r2')"
   ]
  },
  {
   "cell_type": "code",
   "execution_count": 24,
   "metadata": {},
   "outputs": [
    {
     "data": {
      "text/plain": [
       "array([0.66631361, 0.63193378, 0.63867142, 0.67525461, 0.63848626])"
      ]
     },
     "execution_count": 24,
     "metadata": {},
     "output_type": "execute_result"
    }
   ],
   "source": [
    "r2score"
   ]
  },
  {
   "cell_type": "code",
   "execution_count": 25,
   "metadata": {},
   "outputs": [
    {
     "data": {
      "text/plain": [
       "0.6501319353511005"
      ]
     },
     "execution_count": 25,
     "metadata": {},
     "output_type": "execute_result"
    }
   ],
   "source": [
    "r2score.mean()"
   ]
  },
  {
   "cell_type": "code",
   "execution_count": 26,
   "metadata": {},
   "outputs": [
    {
     "data": {
      "text/plain": [
       "0.017269239668871644"
      ]
     },
     "execution_count": 26,
     "metadata": {},
     "output_type": "execute_result"
    }
   ],
   "source": [
    "r2score.std()"
   ]
  }
 ],
 "metadata": {
  "kernelspec": {
   "display_name": "Python 3",
   "language": "python",
   "name": "python3"
  },
  "language_info": {
   "codemirror_mode": {
    "name": "ipython",
    "version": 3
   },
   "file_extension": ".py",
   "mimetype": "text/x-python",
   "name": "python",
   "nbconvert_exporter": "python",
   "pygments_lexer": "ipython3",
   "version": "3.7.5"
  }
 },
 "nbformat": 4,
 "nbformat_minor": 2
}
